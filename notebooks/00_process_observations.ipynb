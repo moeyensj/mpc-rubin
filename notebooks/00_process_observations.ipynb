{
 "cells": [
  {
   "cell_type": "code",
   "execution_count": 1,
   "metadata": {},
   "outputs": [],
   "source": [
    "import os\n",
    "import glob\n",
    "import numpy as np\n",
    "import pandas as pd\n",
    "import matplotlib.pyplot as plt\n",
    "from astropy.time import Time\n",
    "from thor.utils import unpackMPCDesignation\n",
    "\n",
    "%matplotlib inline\n",
    "\n",
    "np.random.seed(42)"
   ]
  },
  {
   "cell_type": "markdown",
   "metadata": {},
   "source": [
    "Read S3C files created by Sam and Siegfried."
   ]
  },
  {
   "cell_type": "code",
   "execution_count": 2,
   "metadata": {},
   "outputs": [
    {
     "name": "stdout",
     "output_type": "stream",
     "text": [
      "['../data/s3c/S0.dat.csv', '../data/s3c/S1_00.dat.csv', '../data/s3c/S1_01.dat.csv', '../data/s3c/S1_02.dat.csv', '../data/s3c/S1_03.dat.csv', '../data/s3c/S1_04.dat.csv', '../data/s3c/S1_05.dat.csv', '../data/s3c/S1_06.dat.csv', '../data/s3c/S1_07.dat.csv', '../data/s3c/S1_08.dat.csv', '../data/s3c/S1_09.dat.csv', '../data/s3c/S1_10.dat.csv', '../data/s3c/S1_11.dat.csv', '../data/s3c/S1_12.dat.csv', '../data/s3c/S1_13.dat.csv', '../data/s3c/SR.dat.csv', '../data/s3c/SS.dat.csv', '../data/s3c/ST.dat.csv', '../data/s3c/St5.dat.csv']\n"
     ]
    }
   ],
   "source": [
    "DATA_DIR = \"../data\"\n",
    "S3C_files = sorted(glob.glob(os.path.join(DATA_DIR, \"s3c\",\"S*.dat.csv\")))\n",
    "print(S3C_files)"
   ]
  },
  {
   "cell_type": "code",
   "execution_count": 3,
   "metadata": {},
   "outputs": [
    {
     "name": "stdout",
     "output_type": "stream",
     "text": [
      "Processing file: S0.dat.csv\n",
      "Processing file: S1_00.dat.csv\n",
      "Processing file: S1_01.dat.csv\n",
      "Processing file: S1_02.dat.csv\n",
      "Processing file: S1_03.dat.csv\n",
      "Processing file: S1_04.dat.csv\n",
      "Processing file: S1_05.dat.csv\n",
      "Processing file: S1_06.dat.csv\n",
      "Processing file: S1_07.dat.csv\n",
      "Processing file: S1_08.dat.csv\n",
      "Processing file: S1_09.dat.csv\n",
      "Processing file: S1_10.dat.csv\n",
      "Processing file: S1_11.dat.csv\n",
      "Processing file: S1_12.dat.csv\n",
      "Processing file: S1_13.dat.csv\n",
      "Processing file: SR.dat.csv\n",
      "Processing file: SS.dat.csv\n",
      "Processing file: ST.dat.csv\n",
      "Processing file: St5.dat.csv\n"
     ]
    },
    {
     "data": {
      "text/plain": [
       "102658740"
      ]
     },
     "execution_count": 3,
     "metadata": {},
     "output_type": "execute_result"
    }
   ],
   "source": [
    "simulated_observations = []\n",
    "for f in S3C_files:\n",
    "    print(\"Processing file: {}\".format(os.path.basename(f)))\n",
    "    simulated_observations.append(pd.read_csv(f))\n",
    "    \n",
    "simulated_observations = pd.concat(simulated_observations)\n",
    "simulated_observations.sort_values(\n",
    "    by=[\"FieldMJD\"],\n",
    "    inplace=True,\n",
    ")\n",
    "simulated_observations.reset_index(\n",
    "    inplace=True,\n",
    "    drop=True\n",
    ")\n",
    "len(simulated_observations)"
   ]
  },
  {
   "cell_type": "code",
   "execution_count": 4,
   "metadata": {},
   "outputs": [
    {
     "data": {
      "text/plain": [
       "364.1180969999914"
      ]
     },
     "execution_count": 4,
     "metadata": {},
     "output_type": "execute_result"
    }
   ],
   "source": [
    "simulated_observations[\"FieldMJD\"].max() - simulated_observations[\"FieldMJD\"].min()"
   ]
  },
  {
   "cell_type": "markdown",
   "metadata": {},
   "source": [
    "Take first 35 days of observations (will reduce to 30 later but just making sure we don't accidentally clip observations)."
   ]
  },
  {
   "cell_type": "code",
   "execution_count": 5,
   "metadata": {},
   "outputs": [
    {
     "data": {
      "text/plain": [
       "11078773"
      ]
     },
     "execution_count": 5,
     "metadata": {},
     "output_type": "execute_result"
    }
   ],
   "source": [
    "first_exposure = simulated_observations[\"FieldMJD\"].min()\n",
    "num_nights = 35\n",
    "\n",
    "simulated_observations = simulated_observations[\n",
    "    (simulated_observations[\"FieldMJD\"] >= first_exposure)\n",
    "    & (simulated_observations[\"FieldMJD\"] < (first_exposure + num_nights))]\n",
    "len(simulated_observations)"
   ]
  },
  {
   "cell_type": "code",
   "execution_count": 6,
   "metadata": {},
   "outputs": [
    {
     "data": {
      "text/html": [
       "<div>\n",
       "<style scoped>\n",
       "    .dataframe tbody tr th:only-of-type {\n",
       "        vertical-align: middle;\n",
       "    }\n",
       "\n",
       "    .dataframe tbody tr th {\n",
       "        vertical-align: top;\n",
       "    }\n",
       "\n",
       "    .dataframe thead th {\n",
       "        text-align: right;\n",
       "    }\n",
       "</style>\n",
       "<table border=\"1\" class=\"dataframe\">\n",
       "  <thead>\n",
       "    <tr style=\"text-align: right;\">\n",
       "      <th></th>\n",
       "      <th>ObjID</th>\n",
       "      <th>observationId</th>\n",
       "      <th>FieldMJD</th>\n",
       "      <th>AstRange(km)</th>\n",
       "      <th>AstRangeRate(km/s)</th>\n",
       "      <th>AstRA(deg)</th>\n",
       "      <th>AstRARate(deg/day)</th>\n",
       "      <th>AstDec(deg)</th>\n",
       "      <th>AstDecRate(deg/day)</th>\n",
       "      <th>Ast-Sun(J2000x)(km)</th>\n",
       "      <th>Ast-Sun(J2000y)(km)</th>\n",
       "      <th>Ast-Sun(J2000z)(km)</th>\n",
       "      <th>Sun-Ast-Obs(deg)</th>\n",
       "      <th>V</th>\n",
       "      <th>Filtermag</th>\n",
       "      <th>V(H=0)</th>\n",
       "      <th>Filter</th>\n",
       "      <th>AstRASigma(mas)</th>\n",
       "      <th>AstDecSigma(mas)</th>\n",
       "      <th>PhotometricSigma(mag)</th>\n",
       "    </tr>\n",
       "  </thead>\n",
       "  <tbody>\n",
       "    <tr>\n",
       "      <th>0</th>\n",
       "      <td>S00000pWa</td>\n",
       "      <td>0</td>\n",
       "      <td>59853.985644</td>\n",
       "      <td>1.806609e+08</td>\n",
       "      <td>12.121</td>\n",
       "      <td>293.446584</td>\n",
       "      <td>0.083468</td>\n",
       "      <td>3.515836</td>\n",
       "      <td>-0.215819</td>\n",
       "      <td>2.198797e+08</td>\n",
       "      <td>-1.452112e+08</td>\n",
       "      <td>1.984291e+07</td>\n",
       "      <td>33.042024</td>\n",
       "      <td>21.648</td>\n",
       "      <td>21.247</td>\n",
       "      <td>3.032</td>\n",
       "      <td>z</td>\n",
       "      <td>84.473821</td>\n",
       "      <td>84.473821</td>\n",
       "      <td>0.100685</td>\n",
       "    </tr>\n",
       "    <tr>\n",
       "      <th>1</th>\n",
       "      <td>St5002gfa</td>\n",
       "      <td>0</td>\n",
       "      <td>59853.985644</td>\n",
       "      <td>6.933624e+08</td>\n",
       "      <td>23.236</td>\n",
       "      <td>296.078215</td>\n",
       "      <td>0.030682</td>\n",
       "      <td>4.609261</td>\n",
       "      <td>-0.057868</td>\n",
       "      <td>4.519458e+08</td>\n",
       "      <td>-6.005395e+08</td>\n",
       "      <td>6.448260e+07</td>\n",
       "      <td>10.852051</td>\n",
       "      <td>21.854</td>\n",
       "      <td>21.556</td>\n",
       "      <td>7.524</td>\n",
       "      <td>z</td>\n",
       "      <td>111.242671</td>\n",
       "      <td>111.242671</td>\n",
       "      <td>0.131106</td>\n",
       "    </tr>\n",
       "    <tr>\n",
       "      <th>2</th>\n",
       "      <td>S1004031a</td>\n",
       "      <td>0</td>\n",
       "      <td>59853.985644</td>\n",
       "      <td>3.110664e+08</td>\n",
       "      <td>17.909</td>\n",
       "      <td>294.549169</td>\n",
       "      <td>0.083839</td>\n",
       "      <td>3.907008</td>\n",
       "      <td>-0.055772</td>\n",
       "      <td>2.770707e+08</td>\n",
       "      <td>-2.620691e+08</td>\n",
       "      <td>2.995922e+07</td>\n",
       "      <td>21.992433</td>\n",
       "      <td>20.471</td>\n",
       "      <td>20.070</td>\n",
       "      <td>4.691</td>\n",
       "      <td>z</td>\n",
       "      <td>31.381618</td>\n",
       "      <td>31.381618</td>\n",
       "      <td>0.036783</td>\n",
       "    </tr>\n",
       "    <tr>\n",
       "      <th>3</th>\n",
       "      <td>S1005juya</td>\n",
       "      <td>0</td>\n",
       "      <td>59853.985644</td>\n",
       "      <td>3.307562e+08</td>\n",
       "      <td>18.309</td>\n",
       "      <td>296.153045</td>\n",
       "      <td>0.122852</td>\n",
       "      <td>4.921600</td>\n",
       "      <td>-0.143050</td>\n",
       "      <td>2.933811e+08</td>\n",
       "      <td>-2.755779e+08</td>\n",
       "      <td>3.714040e+07</td>\n",
       "      <td>20.559665</td>\n",
       "      <td>19.839</td>\n",
       "      <td>19.438</td>\n",
       "      <td>4.899</td>\n",
       "      <td>z</td>\n",
       "      <td>20.149531</td>\n",
       "      <td>20.149531</td>\n",
       "      <td>0.021782</td>\n",
       "    </tr>\n",
       "    <tr>\n",
       "      <th>4</th>\n",
       "      <td>S1005Q41a</td>\n",
       "      <td>0</td>\n",
       "      <td>59853.985644</td>\n",
       "      <td>3.025812e+08</td>\n",
       "      <td>14.915</td>\n",
       "      <td>294.380587</td>\n",
       "      <td>0.115228</td>\n",
       "      <td>4.948851</td>\n",
       "      <td>-0.170362</td>\n",
       "      <td>2.725697e+08</td>\n",
       "      <td>-2.543499e+08</td>\n",
       "      <td>3.486658e+07</td>\n",
       "      <td>22.510926</td>\n",
       "      <td>21.140</td>\n",
       "      <td>20.739</td>\n",
       "      <td>4.600</td>\n",
       "      <td>z</td>\n",
       "      <td>54.255349</td>\n",
       "      <td>54.255349</td>\n",
       "      <td>0.065081</td>\n",
       "    </tr>\n",
       "  </tbody>\n",
       "</table>\n",
       "</div>"
      ],
      "text/plain": [
       "       ObjID  observationId      FieldMJD  AstRange(km)  AstRangeRate(km/s)  \\\n",
       "0  S00000pWa              0  59853.985644  1.806609e+08              12.121   \n",
       "1  St5002gfa              0  59853.985644  6.933624e+08              23.236   \n",
       "2  S1004031a              0  59853.985644  3.110664e+08              17.909   \n",
       "3  S1005juya              0  59853.985644  3.307562e+08              18.309   \n",
       "4  S1005Q41a              0  59853.985644  3.025812e+08              14.915   \n",
       "\n",
       "   AstRA(deg)  AstRARate(deg/day)  AstDec(deg)  AstDecRate(deg/day)  \\\n",
       "0  293.446584            0.083468     3.515836            -0.215819   \n",
       "1  296.078215            0.030682     4.609261            -0.057868   \n",
       "2  294.549169            0.083839     3.907008            -0.055772   \n",
       "3  296.153045            0.122852     4.921600            -0.143050   \n",
       "4  294.380587            0.115228     4.948851            -0.170362   \n",
       "\n",
       "   Ast-Sun(J2000x)(km)  Ast-Sun(J2000y)(km)  Ast-Sun(J2000z)(km)  \\\n",
       "0         2.198797e+08        -1.452112e+08         1.984291e+07   \n",
       "1         4.519458e+08        -6.005395e+08         6.448260e+07   \n",
       "2         2.770707e+08        -2.620691e+08         2.995922e+07   \n",
       "3         2.933811e+08        -2.755779e+08         3.714040e+07   \n",
       "4         2.725697e+08        -2.543499e+08         3.486658e+07   \n",
       "\n",
       "   Sun-Ast-Obs(deg)       V  Filtermag  V(H=0) Filter  AstRASigma(mas)  \\\n",
       "0         33.042024  21.648     21.247   3.032      z        84.473821   \n",
       "1         10.852051  21.854     21.556   7.524      z       111.242671   \n",
       "2         21.992433  20.471     20.070   4.691      z        31.381618   \n",
       "3         20.559665  19.839     19.438   4.899      z        20.149531   \n",
       "4         22.510926  21.140     20.739   4.600      z        54.255349   \n",
       "\n",
       "   AstDecSigma(mas)  PhotometricSigma(mag)  \n",
       "0         84.473821               0.100685  \n",
       "1        111.242671               0.131106  \n",
       "2         31.381618               0.036783  \n",
       "3         20.149531               0.021782  \n",
       "4         54.255349               0.065081  "
      ]
     },
     "execution_count": 6,
     "metadata": {},
     "output_type": "execute_result"
    }
   ],
   "source": [
    "simulated_observations.head()"
   ]
  },
  {
   "cell_type": "markdown",
   "metadata": {},
   "source": [
    "Calculate H magnitude, then only keep s3m objects with H magnitude >= 15. "
   ]
  },
  {
   "cell_type": "code",
   "execution_count": 7,
   "metadata": {},
   "outputs": [
    {
     "data": {
      "text/plain": [
       "10500342"
      ]
     },
     "execution_count": 7,
     "metadata": {},
     "output_type": "execute_result"
    }
   ],
   "source": [
    "simulated_observations[\"H\"] = simulated_observations[\"V\"] - simulated_observations[\"V(H=0)\"]\n",
    "simulated_observations = simulated_observations[(simulated_observations[\"H\"] >= 15)].copy()\n",
    "len(simulated_observations)"
   ]
  },
  {
   "cell_type": "markdown",
   "metadata": {},
   "source": [
    "Read MPC files created by Sam and Siegfried. "
   ]
  },
  {
   "cell_type": "code",
   "execution_count": 8,
   "metadata": {},
   "outputs": [
    {
     "name": "stdout",
     "output_type": "stream",
     "text": [
      "['../data/mpc/MPCDET_1.dat', '../data/mpc/MPCDET_2.dat', '../data/mpc/MPCDET_3.dat', '../data/mpc/MPCDET_4.dat', '../data/mpc/MPCDET_5.dat']\n"
     ]
    }
   ],
   "source": [
    "MPC_files = sorted(glob.glob(os.path.join(DATA_DIR, \"mpc\", \"MPC*.dat\")))\n",
    "print(MPC_files)"
   ]
  },
  {
   "cell_type": "code",
   "execution_count": 9,
   "metadata": {},
   "outputs": [
    {
     "name": "stdout",
     "output_type": "stream",
     "text": [
      "Processing file: MPCDET_1.dat\n",
      "Processing file: MPCDET_2.dat\n",
      "Processing file: MPCDET_3.dat\n",
      "Processing file: MPCDET_4.dat\n",
      "Processing file: MPCDET_5.dat\n"
     ]
    },
    {
     "data": {
      "text/plain": [
       "3606899"
      ]
     },
     "execution_count": 9,
     "metadata": {},
     "output_type": "execute_result"
    }
   ],
   "source": [
    "columns = [\n",
    "    \"ObjID\",  \n",
    "    \"FieldID\",      \n",
    "    \"FieldMJD\",  \n",
    "    \"AstRange(km)\",  \n",
    "    \"AstRangeRate(km/s)\",  \n",
    "    \"AstRA(deg)\",  \n",
    "    \"AstRARate(deg/day)\",  \n",
    "    \"AstDec(deg)\",  \n",
    "    \"AstDecRate(deg/day)\",  \n",
    "    \"Ast-Sun(J2000x)(km)\",  \n",
    "    \"Ast-Sun(J2000y)(km)\",  \n",
    "    \"Ast-Sun(J2000z)(km)\",\n",
    "    \"Sun-Ast-Obs(deg)\",       \n",
    "    \"V\",\n",
    "    \"V(H=0)\",\n",
    "    \"Filter\",  \n",
    "    \"Filtermag\",\n",
    "    \"AstRARate(deg/sec)\",  \n",
    "    \"AstDecRate(deg/sec)\",  \n",
    "    \"AstRASigma(mas)\",  \n",
    "    \"AstDecSigma(mas)\",  \n",
    "    \"PhotometricSigma(mag)\",  \n",
    "    \"randAstRA(deg)\",  \n",
    "    \"randAstDec(deg)\",  \n",
    "    \"randFilterMag\",\n",
    "]\n",
    "\n",
    "dtypes = {}\n",
    "for col in columns:\n",
    "    if col in set([\"ObjID\", \"Filter\"]):\n",
    "        dtypes[col] = object\n",
    "    elif col in set([\"FieldID\"]):\n",
    "        dtypes[col] = np.int32\n",
    "    else:\n",
    "        dtypes[col] = np.float64\n",
    "\n",
    "mpc_observations = []\n",
    "for f in MPC_files:\n",
    "    print(\"Processing file: {}\".format(os.path.basename(f)))\n",
    "    \n",
    "    for df in pd.read_csv(f, delim_whitespace=True, names=columns, dtype=dtypes, chunksize=5000000):\n",
    "        df.loc[:, \"ObjID\"] = df[\"ObjID\"].apply(lambda x : x[:-1])\n",
    "        df = df[\n",
    "            (df[\"FieldMJD\"] >= first_exposure)\n",
    "             & (df[\"FieldMJD\"] < first_exposure + num_nights)\n",
    "        ]\n",
    "        \n",
    "        # Set permID and provID after unpacking the designations\n",
    "        df.loc[:, \"ObjID\"] = df[~df[\"ObjID\"].isna()][\"ObjID\"].apply(unpackMPCDesignation)\n",
    "        df.loc[df[\"ObjID\"].str.isnumeric(), \"permID\"] = df[\"ObjID\"]\n",
    "        df.loc[~df[\"ObjID\"].str.isnumeric(), \"provID\"] = df[\"ObjID\"]\n",
    "        \n",
    "        if len(df) != 0:\n",
    "            mpc_observations.append(df)        \n",
    "            \n",
    "mpc_observations = pd.concat(mpc_observations)\n",
    "mpc_observations.sort_values(\n",
    "    by=[\"FieldMJD\"],\n",
    "    inplace=True,\n",
    ")\n",
    "mpc_observations.reset_index(\n",
    "    inplace=True,\n",
    "    drop=True\n",
    ")\n",
    "len(mpc_observations)"
   ]
  },
  {
   "cell_type": "code",
   "execution_count": 10,
   "metadata": {},
   "outputs": [
    {
     "data": {
      "text/plain": [
       "0"
      ]
     },
     "execution_count": 10,
     "metadata": {},
     "output_type": "execute_result"
    }
   ],
   "source": [
    "len(mpc_observations[mpc_observations[\"Filter\"].isna()])"
   ]
  },
  {
   "cell_type": "code",
   "execution_count": 11,
   "metadata": {},
   "outputs": [
    {
     "data": {
      "text/plain": [
       "5862"
      ]
     },
     "execution_count": 11,
     "metadata": {},
     "output_type": "execute_result"
    }
   ],
   "source": [
    "len(mpc_observations[mpc_observations[\"Filtermag\"].isna()])"
   ]
  },
  {
   "cell_type": "code",
   "execution_count": 12,
   "metadata": {},
   "outputs": [],
   "source": [
    "mpc_observations = mpc_observations[~mpc_observations[\"Filtermag\"].isna()]"
   ]
  },
  {
   "cell_type": "markdown",
   "metadata": {},
   "source": [
    "Concatenate both sets of observations and sort by exposure time. "
   ]
  },
  {
   "cell_type": "code",
   "execution_count": 13,
   "metadata": {},
   "outputs": [
    {
     "data": {
      "text/plain": [
       "14101379"
      ]
     },
     "execution_count": 13,
     "metadata": {},
     "output_type": "execute_result"
    }
   ],
   "source": [
    "simulated_observations = pd.concat([simulated_observations, mpc_observations])\n",
    "simulated_observations.sort_values(\n",
    "    by=[\"FieldMJD\"],\n",
    "    inplace=True,\n",
    ")\n",
    "simulated_observations.reset_index(\n",
    "    inplace=True,\n",
    "    drop=True\n",
    ")\n",
    "len(simulated_observations)"
   ]
  },
  {
   "cell_type": "markdown",
   "metadata": {},
   "source": [
    "Calculate the night of observation."
   ]
  },
  {
   "cell_type": "code",
   "execution_count": 14,
   "metadata": {},
   "outputs": [],
   "source": [
    "def calcNight(mjd, midnight=0.166):\n",
    "    night = mjd + 0.5 - midnight\n",
    "    return night.astype(int)\n",
    "\n",
    "simulated_observations[\"night\"] = calcNight(simulated_observations[\"FieldMJD\"])"
   ]
  },
  {
   "cell_type": "code",
   "execution_count": 15,
   "metadata": {},
   "outputs": [
    {
     "data": {
      "image/png": "[encoded data removed]",
      "text/plain": [
       "<Figure size 1200x800 with 1 Axes>"
      ]
     },
     "metadata": {
      "needs_background": "light"
     },
     "output_type": "display_data"
    },
    {
     "data": {
      "image/png": "[encoded data removed]",
      "text/plain": [
       "<Figure size 1200x800 with 1 Axes>"
      ]
     },
     "metadata": {
      "needs_background": "light"
     },
     "output_type": "display_data"
    },
    {
     "data": {
      "image/png": "[encoded data removed]",
      "text/plain": [
       "<Figure size 1200x800 with 1 Axes>"
      ]
     },
     "metadata": {
      "needs_background": "light"
     },
     "output_type": "display_data"
    }
   ],
   "source": [
    "fig, ax = plt.subplots(1, 1, dpi=200)\n",
    "values, bins, artists = ax.hist(simulated_observations[\"FieldMJD\"].unique(), bins=100)\n",
    "\n",
    "fig, ax = plt.subplots(1, 1, dpi=200)\n",
    "values, bins, artists = ax.hist(simulated_observations[\"FieldMJD\"].unique() + 0.5 - 0.166, bins=100)\n",
    "\n",
    "fig, ax = plt.subplots(1, 1, dpi=200)\n",
    "values, bins, artists = ax.hist(simulated_observations[\"night\"].values, bins=100)"
   ]
  },
  {
   "cell_type": "markdown",
   "metadata": {},
   "source": [
    "Keep only the first 30 nights of observations."
   ]
  },
  {
   "cell_type": "code",
   "execution_count": 16,
   "metadata": {},
   "outputs": [
    {
     "data": {
      "text/plain": [
       "13775715"
      ]
     },
     "execution_count": 16,
     "metadata": {},
     "output_type": "execute_result"
    }
   ],
   "source": [
    "simulated_observations = simulated_observations[\n",
    "    (simulated_observations[\"night\"] >= simulated_observations[\"night\"].min())\n",
    "    & (simulated_observations[\"night\"] <= (simulated_observations[\"night\"].min() + 30))\n",
    "].copy()\n",
    "len(simulated_observations)"
   ]
  },
  {
   "cell_type": "markdown",
   "metadata": {},
   "source": [
    "ADES expects rmsRAcosDec."
   ]
  },
  {
   "cell_type": "code",
   "execution_count": 17,
   "metadata": {},
   "outputs": [],
   "source": [
    "simulated_observations.loc[:, \"AstRASigma(mas)\"] *= np.cos(np.radians(simulated_observations[\"AstDec(deg)\"].values))"
   ]
  },
  {
   "cell_type": "markdown",
   "metadata": {},
   "source": [
    "ADES expects errors in arcseconds."
   ]
  },
  {
   "cell_type": "code",
   "execution_count": 18,
   "metadata": {},
   "outputs": [],
   "source": [
    "simulated_observations[\"AstRASigma(arcsec)\"] = simulated_observations[\"AstRASigma(mas)\"].values / 1e3\n",
    "simulated_observations[\"AstDecSigma(arcsec)\"] = simulated_observations[\"AstDecSigma(mas)\"].values / 1e3"
   ]
  },
  {
   "cell_type": "markdown",
   "metadata": {},
   "source": [
    "Make sure observation IDs are unique."
   ]
  },
  {
   "cell_type": "code",
   "execution_count": 19,
   "metadata": {},
   "outputs": [],
   "source": [
    "simulated_observations[\"observationId\"] = [\"obs{:08d}\".format(i) for i in range(len(simulated_observations))]"
   ]
  },
  {
   "cell_type": "markdown",
   "metadata": {},
   "source": [
    "Add observatory code, observation type, astrometric catalog, etc..."
   ]
  },
  {
   "cell_type": "code",
   "execution_count": 20,
   "metadata": {},
   "outputs": [],
   "source": [
    "simulated_observations[\"stn\"] = [\"I11\" for i in range(len(simulated_observations))]\n",
    "simulated_observations[\"mode\"] = [\"CCD\" for i in range(len(simulated_observations))]\n",
    "simulated_observations[\"astCat\"] = [\"Gaia2\" for i in range(len(simulated_observations))]"
   ]
  },
  {
   "cell_type": "markdown",
   "metadata": {},
   "source": [
    "Rename some columns to fit names expected by ADES. "
   ]
  },
  {
   "cell_type": "code",
   "execution_count": 21,
   "metadata": {},
   "outputs": [],
   "source": [
    "simulated_observations.rename(\n",
    "    columns={\n",
    "        \"observationId\" : \"obs_id\",\n",
    "        \"ObjID\" : \"obj_id\",\n",
    "        \"FieldMJD\" : \"mjd_utc\",\n",
    "        \"AstRA(deg)\" : \"ra\",\n",
    "        \"AstDec(deg)\" : \"dec\",\n",
    "        \"AstRASigma(arcsec)\" : \"rmsRA\", \n",
    "        \"AstDecSigma(arcsec)\" : \"rmsDec\",\n",
    "        \"Filter\" : \"band\",\n",
    "        \"Filtermag\" : \"mag\",\n",
    "        \"PhotometricSigma(mag)\" : \"rmsMag\",\n",
    "    },\n",
    "    inplace=True\n",
    ")"
   ]
  },
  {
   "cell_type": "markdown",
   "metadata": {},
   "source": [
    "Create a more accurate representation of an obj_id column without linking: fill it with NaNs. Move the old obj_id column to truth."
   ]
  },
  {
   "cell_type": "code",
   "execution_count": 22,
   "metadata": {},
   "outputs": [],
   "source": [
    "simulated_observations.loc[:, \"truth\"] = simulated_observations[\"obj_id\"].values\n",
    "simulated_observations.loc[:, \"obj_id\"] = np.NaN"
   ]
  },
  {
   "cell_type": "code",
   "execution_count": 23,
   "metadata": {},
   "outputs": [
    {
     "data": {
      "text/html": [
       "<div>\n",
       "<style scoped>\n",
       "    .dataframe tbody tr th:only-of-type {\n",
       "        vertical-align: middle;\n",
       "    }\n",
       "\n",
       "    .dataframe tbody tr th {\n",
       "        vertical-align: top;\n",
       "    }\n",
       "\n",
       "    .dataframe thead th {\n",
       "        text-align: right;\n",
       "    }\n",
       "</style>\n",
       "<table border=\"1\" class=\"dataframe\">\n",
       "  <thead>\n",
       "    <tr style=\"text-align: right;\">\n",
       "      <th></th>\n",
       "      <th>obj_id</th>\n",
       "      <th>obs_id</th>\n",
       "      <th>mjd_utc</th>\n",
       "      <th>AstRange(km)</th>\n",
       "      <th>AstRangeRate(km/s)</th>\n",
       "      <th>ra</th>\n",
       "      <th>AstRARate(deg/day)</th>\n",
       "      <th>dec</th>\n",
       "      <th>AstDecRate(deg/day)</th>\n",
       "      <th>Ast-Sun(J2000x)(km)</th>\n",
       "      <th>...</th>\n",
       "      <th>randFilterMag</th>\n",
       "      <th>permID</th>\n",
       "      <th>provID</th>\n",
       "      <th>night</th>\n",
       "      <th>rmsRA</th>\n",
       "      <th>rmsDec</th>\n",
       "      <th>stn</th>\n",
       "      <th>mode</th>\n",
       "      <th>astCat</th>\n",
       "      <th>truth</th>\n",
       "    </tr>\n",
       "  </thead>\n",
       "  <tbody>\n",
       "    <tr>\n",
       "      <th>0</th>\n",
       "      <td>NaN</td>\n",
       "      <td>obs00000000</td>\n",
       "      <td>59853.985644</td>\n",
       "      <td>1.806609e+08</td>\n",
       "      <td>12.121</td>\n",
       "      <td>293.446584</td>\n",
       "      <td>0.083468</td>\n",
       "      <td>3.515836</td>\n",
       "      <td>-0.215819</td>\n",
       "      <td>2.198797e+08</td>\n",
       "      <td>...</td>\n",
       "      <td>NaN</td>\n",
       "      <td>NaN</td>\n",
       "      <td>NaN</td>\n",
       "      <td>59854</td>\n",
       "      <td>0.084315</td>\n",
       "      <td>0.084474</td>\n",
       "      <td>I11</td>\n",
       "      <td>CCD</td>\n",
       "      <td>Gaia2</td>\n",
       "      <td>S00000pWa</td>\n",
       "    </tr>\n",
       "    <tr>\n",
       "      <th>1</th>\n",
       "      <td>NaN</td>\n",
       "      <td>obs00000001</td>\n",
       "      <td>59853.985644</td>\n",
       "      <td>6.664819e+08</td>\n",
       "      <td>24.005</td>\n",
       "      <td>295.982447</td>\n",
       "      <td>0.025880</td>\n",
       "      <td>3.173436</td>\n",
       "      <td>-0.037195</td>\n",
       "      <td>4.396662e+08</td>\n",
       "      <td>...</td>\n",
       "      <td>18.705318</td>\n",
       "      <td>159342</td>\n",
       "      <td>NaN</td>\n",
       "      <td>59854</td>\n",
       "      <td>0.014006</td>\n",
       "      <td>0.014027</td>\n",
       "      <td>I11</td>\n",
       "      <td>CCD</td>\n",
       "      <td>Gaia2</td>\n",
       "      <td>159342</td>\n",
       "    </tr>\n",
       "    <tr>\n",
       "      <th>2</th>\n",
       "      <td>NaN</td>\n",
       "      <td>obs00000002</td>\n",
       "      <td>59853.985644</td>\n",
       "      <td>4.065441e+08</td>\n",
       "      <td>20.394</td>\n",
       "      <td>295.727660</td>\n",
       "      <td>0.058778</td>\n",
       "      <td>4.253158</td>\n",
       "      <td>-0.071506</td>\n",
       "      <td>3.241234e+08</td>\n",
       "      <td>...</td>\n",
       "      <td>21.524440</td>\n",
       "      <td>NaN</td>\n",
       "      <td>2014 WS484</td>\n",
       "      <td>59854</td>\n",
       "      <td>0.115598</td>\n",
       "      <td>0.115917</td>\n",
       "      <td>I11</td>\n",
       "      <td>CCD</td>\n",
       "      <td>Gaia2</td>\n",
       "      <td>2014 WS484</td>\n",
       "    </tr>\n",
       "    <tr>\n",
       "      <th>3</th>\n",
       "      <td>NaN</td>\n",
       "      <td>obs00000003</td>\n",
       "      <td>59853.985644</td>\n",
       "      <td>9.389261e+07</td>\n",
       "      <td>-0.045</td>\n",
       "      <td>295.458450</td>\n",
       "      <td>0.078860</td>\n",
       "      <td>5.114469</td>\n",
       "      <td>-0.759084</td>\n",
       "      <td>1.883307e+08</td>\n",
       "      <td>...</td>\n",
       "      <td>18.136846</td>\n",
       "      <td>86666</td>\n",
       "      <td>NaN</td>\n",
       "      <td>59854</td>\n",
       "      <td>0.011877</td>\n",
       "      <td>0.011924</td>\n",
       "      <td>I11</td>\n",
       "      <td>CCD</td>\n",
       "      <td>Gaia2</td>\n",
       "      <td>86666</td>\n",
       "    </tr>\n",
       "    <tr>\n",
       "      <th>4</th>\n",
       "      <td>NaN</td>\n",
       "      <td>obs00000004</td>\n",
       "      <td>59853.985644</td>\n",
       "      <td>5.598252e+08</td>\n",
       "      <td>21.715</td>\n",
       "      <td>294.949648</td>\n",
       "      <td>0.033249</td>\n",
       "      <td>6.066039</td>\n",
       "      <td>-0.097057</td>\n",
       "      <td>3.829552e+08</td>\n",
       "      <td>...</td>\n",
       "      <td>23.262118</td>\n",
       "      <td>NaN</td>\n",
       "      <td>2007 VD177</td>\n",
       "      <td>59854</td>\n",
       "      <td>0.559205</td>\n",
       "      <td>0.562354</td>\n",
       "      <td>I11</td>\n",
       "      <td>CCD</td>\n",
       "      <td>Gaia2</td>\n",
       "      <td>2007 VD177</td>\n",
       "    </tr>\n",
       "  </tbody>\n",
       "</table>\n",
       "<p>5 rows × 36 columns</p>\n",
       "</div>"
      ],
      "text/plain": [
       "   obj_id       obs_id       mjd_utc  AstRange(km)  AstRangeRate(km/s)  \\\n",
       "0     NaN  obs00000000  59853.985644  1.806609e+08              12.121   \n",
       "1     NaN  obs00000001  59853.985644  6.664819e+08              24.005   \n",
       "2     NaN  obs00000002  59853.985644  4.065441e+08              20.394   \n",
       "3     NaN  obs00000003  59853.985644  9.389261e+07              -0.045   \n",
       "4     NaN  obs00000004  59853.985644  5.598252e+08              21.715   \n",
       "\n",
       "           ra  AstRARate(deg/day)       dec  AstDecRate(deg/day)  \\\n",
       "0  293.446584            0.083468  3.515836            -0.215819   \n",
       "1  295.982447            0.025880  3.173436            -0.037195   \n",
       "2  295.727660            0.058778  4.253158            -0.071506   \n",
       "3  295.458450            0.078860  5.114469            -0.759084   \n",
       "4  294.949648            0.033249  6.066039            -0.097057   \n",
       "\n",
       "   Ast-Sun(J2000x)(km)  ...  randFilterMag  permID      provID  night  \\\n",
       "0         2.198797e+08  ...            NaN     NaN         NaN  59854   \n",
       "1         4.396662e+08  ...      18.705318  159342         NaN  59854   \n",
       "2         3.241234e+08  ...      21.524440     NaN  2014 WS484  59854   \n",
       "3         1.883307e+08  ...      18.136846   86666         NaN  59854   \n",
       "4         3.829552e+08  ...      23.262118     NaN  2007 VD177  59854   \n",
       "\n",
       "      rmsRA    rmsDec  stn  mode  astCat       truth  \n",
       "0  0.084315  0.084474  I11   CCD   Gaia2   S00000pWa  \n",
       "1  0.014006  0.014027  I11   CCD   Gaia2      159342  \n",
       "2  0.115598  0.115917  I11   CCD   Gaia2  2014 WS484  \n",
       "3  0.011877  0.011924  I11   CCD   Gaia2       86666  \n",
       "4  0.559205  0.562354  I11   CCD   Gaia2  2007 VD177  \n",
       "\n",
       "[5 rows x 36 columns]"
      ]
     },
     "execution_count": 23,
     "metadata": {},
     "output_type": "execute_result"
    }
   ],
   "source": [
    "simulated_observations.head()"
   ]
  },
  {
   "cell_type": "markdown",
   "metadata": {},
   "source": [
    "Keep only the relevant columns."
   ]
  },
  {
   "cell_type": "code",
   "execution_count": 24,
   "metadata": {},
   "outputs": [],
   "source": [
    "simulated_observations = simulated_observations[[\n",
    "    \"obs_id\",\n",
    "    \"obj_id\",\n",
    "    \"mjd_utc\",\n",
    "    \"ra\",\n",
    "    \"dec\",\n",
    "    \"rmsRA\",\n",
    "    \"rmsDec\",\n",
    "    \"band\",\n",
    "    \"mag\",\n",
    "    \"rmsMag\",\n",
    "    \"stn\",\n",
    "    \"mode\",\n",
    "    \"astCat\",\n",
    "    \"night\",\n",
    "    \"truth\"\n",
    "]]"
   ]
  },
  {
   "cell_type": "code",
   "execution_count": 25,
   "metadata": {},
   "outputs": [
    {
     "data": {
      "text/html": [
       "<div>\n",
       "<style scoped>\n",
       "    .dataframe tbody tr th:only-of-type {\n",
       "        vertical-align: middle;\n",
       "    }\n",
       "\n",
       "    .dataframe tbody tr th {\n",
       "        vertical-align: top;\n",
       "    }\n",
       "\n",
       "    .dataframe thead th {\n",
       "        text-align: right;\n",
       "    }\n",
       "</style>\n",
       "<table border=\"1\" class=\"dataframe\">\n",
       "  <thead>\n",
       "    <tr style=\"text-align: right;\">\n",
       "      <th></th>\n",
       "      <th>obs_id</th>\n",
       "      <th>obj_id</th>\n",
       "      <th>mjd_utc</th>\n",
       "      <th>ra</th>\n",
       "      <th>dec</th>\n",
       "      <th>rmsRA</th>\n",
       "      <th>rmsDec</th>\n",
       "      <th>band</th>\n",
       "      <th>mag</th>\n",
       "      <th>rmsMag</th>\n",
       "      <th>stn</th>\n",
       "      <th>mode</th>\n",
       "      <th>astCat</th>\n",
       "      <th>night</th>\n",
       "      <th>truth</th>\n",
       "    </tr>\n",
       "  </thead>\n",
       "  <tbody>\n",
       "    <tr>\n",
       "      <th>0</th>\n",
       "      <td>obs00000000</td>\n",
       "      <td>NaN</td>\n",
       "      <td>59853.985644</td>\n",
       "      <td>293.446584</td>\n",
       "      <td>3.515836</td>\n",
       "      <td>0.084315</td>\n",
       "      <td>0.084474</td>\n",
       "      <td>z</td>\n",
       "      <td>21.247000</td>\n",
       "      <td>0.100685</td>\n",
       "      <td>I11</td>\n",
       "      <td>CCD</td>\n",
       "      <td>Gaia2</td>\n",
       "      <td>59854</td>\n",
       "      <td>S00000pWa</td>\n",
       "    </tr>\n",
       "    <tr>\n",
       "      <th>1</th>\n",
       "      <td>obs00000001</td>\n",
       "      <td>NaN</td>\n",
       "      <td>59853.985644</td>\n",
       "      <td>295.982447</td>\n",
       "      <td>3.173436</td>\n",
       "      <td>0.014006</td>\n",
       "      <td>0.014027</td>\n",
       "      <td>z</td>\n",
       "      <td>18.708965</td>\n",
       "      <td>0.012302</td>\n",
       "      <td>I11</td>\n",
       "      <td>CCD</td>\n",
       "      <td>Gaia2</td>\n",
       "      <td>59854</td>\n",
       "      <td>159342</td>\n",
       "    </tr>\n",
       "    <tr>\n",
       "      <th>2</th>\n",
       "      <td>obs00000002</td>\n",
       "      <td>NaN</td>\n",
       "      <td>59853.985644</td>\n",
       "      <td>295.727660</td>\n",
       "      <td>4.253158</td>\n",
       "      <td>0.115598</td>\n",
       "      <td>0.115917</td>\n",
       "      <td>z</td>\n",
       "      <td>21.601910</td>\n",
       "      <td>0.136325</td>\n",
       "      <td>I11</td>\n",
       "      <td>CCD</td>\n",
       "      <td>Gaia2</td>\n",
       "      <td>59854</td>\n",
       "      <td>2014 WS484</td>\n",
       "    </tr>\n",
       "    <tr>\n",
       "      <th>3</th>\n",
       "      <td>obs00000003</td>\n",
       "      <td>NaN</td>\n",
       "      <td>59853.985644</td>\n",
       "      <td>295.458450</td>\n",
       "      <td>5.114469</td>\n",
       "      <td>0.011877</td>\n",
       "      <td>0.011924</td>\n",
       "      <td>z</td>\n",
       "      <td>18.138789</td>\n",
       "      <td>0.008138</td>\n",
       "      <td>I11</td>\n",
       "      <td>CCD</td>\n",
       "      <td>Gaia2</td>\n",
       "      <td>59854</td>\n",
       "      <td>86666</td>\n",
       "    </tr>\n",
       "    <tr>\n",
       "      <th>4</th>\n",
       "      <td>obs00000004</td>\n",
       "      <td>NaN</td>\n",
       "      <td>59853.985644</td>\n",
       "      <td>294.949648</td>\n",
       "      <td>6.066039</td>\n",
       "      <td>0.559205</td>\n",
       "      <td>0.562354</td>\n",
       "      <td>z</td>\n",
       "      <td>23.336774</td>\n",
       "      <td>0.544599</td>\n",
       "      <td>I11</td>\n",
       "      <td>CCD</td>\n",
       "      <td>Gaia2</td>\n",
       "      <td>59854</td>\n",
       "      <td>2007 VD177</td>\n",
       "    </tr>\n",
       "  </tbody>\n",
       "</table>\n",
       "</div>"
      ],
      "text/plain": [
       "        obs_id  obj_id       mjd_utc          ra       dec     rmsRA  \\\n",
       "0  obs00000000     NaN  59853.985644  293.446584  3.515836  0.084315   \n",
       "1  obs00000001     NaN  59853.985644  295.982447  3.173436  0.014006   \n",
       "2  obs00000002     NaN  59853.985644  295.727660  4.253158  0.115598   \n",
       "3  obs00000003     NaN  59853.985644  295.458450  5.114469  0.011877   \n",
       "4  obs00000004     NaN  59853.985644  294.949648  6.066039  0.559205   \n",
       "\n",
       "     rmsDec band        mag    rmsMag  stn mode astCat  night       truth  \n",
       "0  0.084474    z  21.247000  0.100685  I11  CCD  Gaia2  59854   S00000pWa  \n",
       "1  0.014027    z  18.708965  0.012302  I11  CCD  Gaia2  59854      159342  \n",
       "2  0.115917    z  21.601910  0.136325  I11  CCD  Gaia2  59854  2014 WS484  \n",
       "3  0.011924    z  18.138789  0.008138  I11  CCD  Gaia2  59854       86666  \n",
       "4  0.562354    z  23.336774  0.544599  I11  CCD  Gaia2  59854  2007 VD177  "
      ]
     },
     "execution_count": 25,
     "metadata": {},
     "output_type": "execute_result"
    }
   ],
   "source": [
    "simulated_observations.head()"
   ]
  },
  {
   "cell_type": "code",
   "execution_count": 26,
   "metadata": {},
   "outputs": [],
   "source": [
    "simulated_observations.to_csv(\n",
    "    os.path.join(DATA_DIR, \"observations_noErr.txt\"), \n",
    "    index=False, \n",
    "    sep=\" \"\n",
    ")"
   ]
  },
  {
   "cell_type": "markdown",
   "metadata": {},
   "source": [
    "Add random error to the sky-plane positions."
   ]
  },
  {
   "cell_type": "code",
   "execution_count": 27,
   "metadata": {},
   "outputs": [],
   "source": [
    "simulated_observations.loc[:, \"ra\"] = np.random.normal(\n",
    "    loc=simulated_observations[\"ra\"].values, \n",
    "    scale=simulated_observations[\"rmsRA\"].values/3600/np.cos(np.radians(simulated_observations[\"dec\"].values))\n",
    ")\n",
    "simulated_observations.loc[:, \"dec\"] = np.random.normal(\n",
    "    loc=simulated_observations[\"dec\"].values, \n",
    "    scale=simulated_observations[\"rmsDec\"].values/3600\n",
    ")\n",
    "\n",
    "# Deal with potential wrap-around issues if adding errors\n",
    "simulated_observations.loc[simulated_observations[\"ra\"] < 0, \"ra\"] += 360\n",
    "simulated_observations.loc[simulated_observations[\"ra\"] > 360, \"ra\"] -= 360\n",
    "simulated_observations.loc[simulated_observations[\"dec\"] < -90, \"dec\"] += 180\n",
    "simulated_observations.loc[simulated_observations[\"dec\"] > 90, \"dec\"] -= 180\n",
    "\n",
    "assert len(simulated_observations[simulated_observations[\"ra\"] < 0]) == 0\n",
    "assert len(simulated_observations[simulated_observations[\"ra\"] > 360]) == 0\n",
    "assert len(simulated_observations[simulated_observations[\"dec\"] < -90]) == 0\n",
    "assert len(simulated_observations[simulated_observations[\"dec\"] > 90]) == 0"
   ]
  },
  {
   "cell_type": "code",
   "execution_count": 28,
   "metadata": {},
   "outputs": [
    {
     "data": {
      "text/html": [
       "<div>\n",
       "<style scoped>\n",
       "    .dataframe tbody tr th:only-of-type {\n",
       "        vertical-align: middle;\n",
       "    }\n",
       "\n",
       "    .dataframe tbody tr th {\n",
       "        vertical-align: top;\n",
       "    }\n",
       "\n",
       "    .dataframe thead th {\n",
       "        text-align: right;\n",
       "    }\n",
       "</style>\n",
       "<table border=\"1\" class=\"dataframe\">\n",
       "  <thead>\n",
       "    <tr style=\"text-align: right;\">\n",
       "      <th></th>\n",
       "      <th>obs_id</th>\n",
       "      <th>obj_id</th>\n",
       "      <th>mjd_utc</th>\n",
       "      <th>ra</th>\n",
       "      <th>dec</th>\n",
       "      <th>rmsRA</th>\n",
       "      <th>rmsDec</th>\n",
       "      <th>band</th>\n",
       "      <th>mag</th>\n",
       "      <th>rmsMag</th>\n",
       "      <th>stn</th>\n",
       "      <th>mode</th>\n",
       "      <th>astCat</th>\n",
       "      <th>night</th>\n",
       "      <th>truth</th>\n",
       "    </tr>\n",
       "  </thead>\n",
       "  <tbody>\n",
       "    <tr>\n",
       "      <th>0</th>\n",
       "      <td>obs00000000</td>\n",
       "      <td>NaN</td>\n",
       "      <td>59853.985644</td>\n",
       "      <td>293.446596</td>\n",
       "      <td>3.515798</td>\n",
       "      <td>0.084315</td>\n",
       "      <td>0.084474</td>\n",
       "      <td>z</td>\n",
       "      <td>21.247000</td>\n",
       "      <td>0.100685</td>\n",
       "      <td>I11</td>\n",
       "      <td>CCD</td>\n",
       "      <td>Gaia2</td>\n",
       "      <td>59854</td>\n",
       "      <td>S00000pWa</td>\n",
       "    </tr>\n",
       "    <tr>\n",
       "      <th>1</th>\n",
       "      <td>obs00000001</td>\n",
       "      <td>NaN</td>\n",
       "      <td>59853.985644</td>\n",
       "      <td>295.982446</td>\n",
       "      <td>3.173437</td>\n",
       "      <td>0.014006</td>\n",
       "      <td>0.014027</td>\n",
       "      <td>z</td>\n",
       "      <td>18.708965</td>\n",
       "      <td>0.012302</td>\n",
       "      <td>I11</td>\n",
       "      <td>CCD</td>\n",
       "      <td>Gaia2</td>\n",
       "      <td>59854</td>\n",
       "      <td>159342</td>\n",
       "    </tr>\n",
       "    <tr>\n",
       "      <th>2</th>\n",
       "      <td>obs00000002</td>\n",
       "      <td>NaN</td>\n",
       "      <td>59853.985644</td>\n",
       "      <td>295.727681</td>\n",
       "      <td>4.253175</td>\n",
       "      <td>0.115598</td>\n",
       "      <td>0.115917</td>\n",
       "      <td>z</td>\n",
       "      <td>21.601910</td>\n",
       "      <td>0.136325</td>\n",
       "      <td>I11</td>\n",
       "      <td>CCD</td>\n",
       "      <td>Gaia2</td>\n",
       "      <td>59854</td>\n",
       "      <td>2014 WS484</td>\n",
       "    </tr>\n",
       "    <tr>\n",
       "      <th>3</th>\n",
       "      <td>obs00000003</td>\n",
       "      <td>NaN</td>\n",
       "      <td>59853.985644</td>\n",
       "      <td>295.458455</td>\n",
       "      <td>5.114469</td>\n",
       "      <td>0.011877</td>\n",
       "      <td>0.011924</td>\n",
       "      <td>z</td>\n",
       "      <td>18.138789</td>\n",
       "      <td>0.008138</td>\n",
       "      <td>I11</td>\n",
       "      <td>CCD</td>\n",
       "      <td>Gaia2</td>\n",
       "      <td>59854</td>\n",
       "      <td>86666</td>\n",
       "    </tr>\n",
       "    <tr>\n",
       "      <th>4</th>\n",
       "      <td>obs00000004</td>\n",
       "      <td>NaN</td>\n",
       "      <td>59853.985644</td>\n",
       "      <td>294.949611</td>\n",
       "      <td>6.066191</td>\n",
       "      <td>0.559205</td>\n",
       "      <td>0.562354</td>\n",
       "      <td>z</td>\n",
       "      <td>23.336774</td>\n",
       "      <td>0.544599</td>\n",
       "      <td>I11</td>\n",
       "      <td>CCD</td>\n",
       "      <td>Gaia2</td>\n",
       "      <td>59854</td>\n",
       "      <td>2007 VD177</td>\n",
       "    </tr>\n",
       "  </tbody>\n",
       "</table>\n",
       "</div>"
      ],
      "text/plain": [
       "        obs_id  obj_id       mjd_utc          ra       dec     rmsRA  \\\n",
       "0  obs00000000     NaN  59853.985644  293.446596  3.515798  0.084315   \n",
       "1  obs00000001     NaN  59853.985644  295.982446  3.173437  0.014006   \n",
       "2  obs00000002     NaN  59853.985644  295.727681  4.253175  0.115598   \n",
       "3  obs00000003     NaN  59853.985644  295.458455  5.114469  0.011877   \n",
       "4  obs00000004     NaN  59853.985644  294.949611  6.066191  0.559205   \n",
       "\n",
       "     rmsDec band        mag    rmsMag  stn mode astCat  night       truth  \n",
       "0  0.084474    z  21.247000  0.100685  I11  CCD  Gaia2  59854   S00000pWa  \n",
       "1  0.014027    z  18.708965  0.012302  I11  CCD  Gaia2  59854      159342  \n",
       "2  0.115917    z  21.601910  0.136325  I11  CCD  Gaia2  59854  2014 WS484  \n",
       "3  0.011924    z  18.138789  0.008138  I11  CCD  Gaia2  59854       86666  \n",
       "4  0.562354    z  23.336774  0.544599  I11  CCD  Gaia2  59854  2007 VD177  "
      ]
     },
     "execution_count": 28,
     "metadata": {},
     "output_type": "execute_result"
    }
   ],
   "source": [
    "simulated_observations.head()"
   ]
  },
  {
   "cell_type": "code",
   "execution_count": 29,
   "metadata": {},
   "outputs": [],
   "source": [
    "simulated_observations.to_csv(\n",
    "    os.path.join(DATA_DIR, \"observations.txt\"), \n",
    "    index=False, \n",
    "    sep=\" \"\n",
    ")"
   ]
  },
  {
   "cell_type": "code",
   "execution_count": null,
   "metadata": {},
   "outputs": [],
   "source": []
  }
 ],
 "metadata": {
  "kernelspec": {
   "display_name": "Python [conda env:thor_py37]",
   "language": "python",
   "name": "conda-env-thor_py37-py"
  },
  "language_info": {
   "codemirror_mode": {
    "name": "ipython",
    "version": 3
   },
   "file_extension": ".py",
   "mimetype": "text/x-python",
   "name": "python",
   "nbconvert_exporter": "python",
   "pygments_lexer": "ipython3",
   "version": "3.7.9"
  }
 },
 "nbformat": 4,
 "nbformat_minor": 4
}
