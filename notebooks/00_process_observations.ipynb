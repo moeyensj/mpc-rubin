{
 "cells": [
  {
   "cell_type": "code",
   "execution_count": 1,
   "metadata": {},
   "outputs": [],
   "source": [
    "import os\n",
    "import glob\n",
    "import numpy as np\n",
    "import pandas as pd\n",
    "import matplotlib.pyplot as plt\n",
    "from astropy.time import Time\n",
    "\n",
    "%matplotlib inline\n",
    "\n",
    "np.random.seed(42)"
   ]
  },
  {
   "cell_type": "markdown",
   "metadata": {},
   "source": [
    "Read S3C files created by Sam and Siegfried."
   ]
  },
  {
   "cell_type": "code",
   "execution_count": 2,
   "metadata": {},
   "outputs": [
    {
     "name": "stdout",
     "output_type": "stream",
     "text": [
      "['../data/s3c/S0.dat.csv', '../data/s3c/S1_00.dat.csv', '../data/s3c/S1_01.dat.csv', '../data/s3c/S1_02.dat.csv', '../data/s3c/S1_03.dat.csv', '../data/s3c/S1_04.dat.csv', '../data/s3c/S1_05.dat.csv', '../data/s3c/S1_06.dat.csv', '../data/s3c/S1_07.dat.csv', '../data/s3c/S1_08.dat.csv', '../data/s3c/S1_09.dat.csv', '../data/s3c/S1_10.dat.csv', '../data/s3c/S1_11.dat.csv', '../data/s3c/S1_12.dat.csv', '../data/s3c/S1_13.dat.csv', '../data/s3c/SR.dat.csv', '../data/s3c/SS.dat.csv', '../data/s3c/ST.dat.csv', '../data/s3c/St5.dat.csv']\n"
     ]
    }
   ],
   "source": [
    "DATA_DIR = \"../data\"\n",
    "S3C_files = sorted(glob.glob(os.path.join(DATA_DIR, \"s3c\",\"S*.dat.csv\")))\n",
    "print(S3C_files)"
   ]
  },
  {
   "cell_type": "code",
   "execution_count": 3,
   "metadata": {},
   "outputs": [
    {
     "data": {
      "text/plain": [
       "102658740"
      ]
     },
     "execution_count": 3,
     "metadata": {},
     "output_type": "execute_result"
    }
   ],
   "source": [
    "simulated_observations = []\n",
    "for f in S3C_files:\n",
    "    simulated_observations.append(pd.read_csv(f))\n",
    "    \n",
    "simulated_observations = pd.concat(simulated_observations)\n",
    "simulated_observations.sort_values(\n",
    "    by=[\"FieldMJD\"],\n",
    "    inplace=True,\n",
    ")\n",
    "simulated_observations.reset_index(\n",
    "    inplace=True,\n",
    "    drop=True\n",
    ")\n",
    "len(simulated_observations)"
   ]
  },
  {
   "cell_type": "markdown",
   "metadata": {},
   "source": [
    "Calculate H magnitude, then only keep objects with H magnitude >= 15. "
   ]
  },
  {
   "cell_type": "code",
   "execution_count": 4,
   "metadata": {},
   "outputs": [
    {
     "data": {
      "text/plain": [
       "96764294"
      ]
     },
     "execution_count": 4,
     "metadata": {},
     "output_type": "execute_result"
    }
   ],
   "source": [
    "simulated_observations[\"H\"] = simulated_observations[\"V\"] - simulated_observations[\"V(H=0)\"]\n",
    "simulated_observations = simulated_observations[(simulated_observations[\"H\"] >= 15)]\n",
    "len(simulated_observations)"
   ]
  },
  {
   "cell_type": "code",
   "execution_count": 5,
   "metadata": {},
   "outputs": [
    {
     "data": {
      "text/html": [
       "<div>\n",
       "<style scoped>\n",
       "    .dataframe tbody tr th:only-of-type {\n",
       "        vertical-align: middle;\n",
       "    }\n",
       "\n",
       "    .dataframe tbody tr th {\n",
       "        vertical-align: top;\n",
       "    }\n",
       "\n",
       "    .dataframe thead th {\n",
       "        text-align: right;\n",
       "    }\n",
       "</style>\n",
       "<table border=\"1\" class=\"dataframe\">\n",
       "  <thead>\n",
       "    <tr style=\"text-align: right;\">\n",
       "      <th></th>\n",
       "      <th>ObjID</th>\n",
       "      <th>observationId</th>\n",
       "      <th>FieldMJD</th>\n",
       "      <th>AstRange(km)</th>\n",
       "      <th>AstRangeRate(km/s)</th>\n",
       "      <th>AstRA(deg)</th>\n",
       "      <th>AstRARate(deg/day)</th>\n",
       "      <th>AstDec(deg)</th>\n",
       "      <th>AstDecRate(deg/day)</th>\n",
       "      <th>Ast-Sun(J2000x)(km)</th>\n",
       "      <th>...</th>\n",
       "      <th>Ast-Sun(J2000z)(km)</th>\n",
       "      <th>Sun-Ast-Obs(deg)</th>\n",
       "      <th>V</th>\n",
       "      <th>Filtermag</th>\n",
       "      <th>V(H=0)</th>\n",
       "      <th>Filter</th>\n",
       "      <th>AstRASigma(mas)</th>\n",
       "      <th>AstDecSigma(mas)</th>\n",
       "      <th>PhotometricSigma(mag)</th>\n",
       "      <th>H</th>\n",
       "    </tr>\n",
       "  </thead>\n",
       "  <tbody>\n",
       "    <tr>\n",
       "      <th>0</th>\n",
       "      <td>S00000pWa</td>\n",
       "      <td>0</td>\n",
       "      <td>59853.985644</td>\n",
       "      <td>1.806609e+08</td>\n",
       "      <td>12.121</td>\n",
       "      <td>293.446584</td>\n",
       "      <td>0.083468</td>\n",
       "      <td>3.515836</td>\n",
       "      <td>-0.215819</td>\n",
       "      <td>2.198797e+08</td>\n",
       "      <td>...</td>\n",
       "      <td>1.984291e+07</td>\n",
       "      <td>33.042024</td>\n",
       "      <td>21.648</td>\n",
       "      <td>21.247</td>\n",
       "      <td>3.032</td>\n",
       "      <td>z</td>\n",
       "      <td>84.473821</td>\n",
       "      <td>84.473821</td>\n",
       "      <td>0.100685</td>\n",
       "      <td>18.616</td>\n",
       "    </tr>\n",
       "    <tr>\n",
       "      <th>2</th>\n",
       "      <td>S1004031a</td>\n",
       "      <td>0</td>\n",
       "      <td>59853.985644</td>\n",
       "      <td>3.110664e+08</td>\n",
       "      <td>17.909</td>\n",
       "      <td>294.549169</td>\n",
       "      <td>0.083839</td>\n",
       "      <td>3.907008</td>\n",
       "      <td>-0.055772</td>\n",
       "      <td>2.770707e+08</td>\n",
       "      <td>...</td>\n",
       "      <td>2.995922e+07</td>\n",
       "      <td>21.992433</td>\n",
       "      <td>20.471</td>\n",
       "      <td>20.070</td>\n",
       "      <td>4.691</td>\n",
       "      <td>z</td>\n",
       "      <td>31.381618</td>\n",
       "      <td>31.381618</td>\n",
       "      <td>0.036783</td>\n",
       "      <td>15.780</td>\n",
       "    </tr>\n",
       "    <tr>\n",
       "      <th>4</th>\n",
       "      <td>S1005Q41a</td>\n",
       "      <td>0</td>\n",
       "      <td>59853.985644</td>\n",
       "      <td>3.025812e+08</td>\n",
       "      <td>14.915</td>\n",
       "      <td>294.380587</td>\n",
       "      <td>0.115228</td>\n",
       "      <td>4.948851</td>\n",
       "      <td>-0.170362</td>\n",
       "      <td>2.725697e+08</td>\n",
       "      <td>...</td>\n",
       "      <td>3.486658e+07</td>\n",
       "      <td>22.510926</td>\n",
       "      <td>21.140</td>\n",
       "      <td>20.739</td>\n",
       "      <td>4.600</td>\n",
       "      <td>z</td>\n",
       "      <td>54.255349</td>\n",
       "      <td>54.255349</td>\n",
       "      <td>0.065081</td>\n",
       "      <td>16.540</td>\n",
       "    </tr>\n",
       "    <tr>\n",
       "      <th>5</th>\n",
       "      <td>S1006EoLa</td>\n",
       "      <td>0</td>\n",
       "      <td>59853.985644</td>\n",
       "      <td>3.071102e+08</td>\n",
       "      <td>18.868</td>\n",
       "      <td>293.816822</td>\n",
       "      <td>0.160728</td>\n",
       "      <td>5.583638</td>\n",
       "      <td>-0.124058</td>\n",
       "      <td>2.715580e+08</td>\n",
       "      <td>...</td>\n",
       "      <td>3.864541e+07</td>\n",
       "      <td>22.382624</td>\n",
       "      <td>21.216</td>\n",
       "      <td>20.918</td>\n",
       "      <td>4.646</td>\n",
       "      <td>z</td>\n",
       "      <td>63.301350</td>\n",
       "      <td>63.301350</td>\n",
       "      <td>0.075902</td>\n",
       "      <td>16.570</td>\n",
       "    </tr>\n",
       "    <tr>\n",
       "      <th>7</th>\n",
       "      <td>S10051Uoa</td>\n",
       "      <td>0</td>\n",
       "      <td>59853.985644</td>\n",
       "      <td>3.370582e+08</td>\n",
       "      <td>14.117</td>\n",
       "      <td>294.847477</td>\n",
       "      <td>0.066844</td>\n",
       "      <td>4.069567</td>\n",
       "      <td>-0.117317</td>\n",
       "      <td>2.894072e+08</td>\n",
       "      <td>...</td>\n",
       "      <td>3.268421e+07</td>\n",
       "      <td>20.552948</td>\n",
       "      <td>22.297</td>\n",
       "      <td>21.896</td>\n",
       "      <td>4.957</td>\n",
       "      <td>z</td>\n",
       "      <td>151.075080</td>\n",
       "      <td>151.075080</td>\n",
       "      <td>0.174751</td>\n",
       "      <td>17.340</td>\n",
       "    </tr>\n",
       "  </tbody>\n",
       "</table>\n",
       "<p>5 rows × 21 columns</p>\n",
       "</div>"
      ],
      "text/plain": [
       "       ObjID  observationId      FieldMJD  AstRange(km)  AstRangeRate(km/s)  \\\n",
       "0  S00000pWa              0  59853.985644  1.806609e+08              12.121   \n",
       "2  S1004031a              0  59853.985644  3.110664e+08              17.909   \n",
       "4  S1005Q41a              0  59853.985644  3.025812e+08              14.915   \n",
       "5  S1006EoLa              0  59853.985644  3.071102e+08              18.868   \n",
       "7  S10051Uoa              0  59853.985644  3.370582e+08              14.117   \n",
       "\n",
       "   AstRA(deg)  AstRARate(deg/day)  AstDec(deg)  AstDecRate(deg/day)  \\\n",
       "0  293.446584            0.083468     3.515836            -0.215819   \n",
       "2  294.549169            0.083839     3.907008            -0.055772   \n",
       "4  294.380587            0.115228     4.948851            -0.170362   \n",
       "5  293.816822            0.160728     5.583638            -0.124058   \n",
       "7  294.847477            0.066844     4.069567            -0.117317   \n",
       "\n",
       "   Ast-Sun(J2000x)(km)  ...  Ast-Sun(J2000z)(km)  Sun-Ast-Obs(deg)       V  \\\n",
       "0         2.198797e+08  ...         1.984291e+07         33.042024  21.648   \n",
       "2         2.770707e+08  ...         2.995922e+07         21.992433  20.471   \n",
       "4         2.725697e+08  ...         3.486658e+07         22.510926  21.140   \n",
       "5         2.715580e+08  ...         3.864541e+07         22.382624  21.216   \n",
       "7         2.894072e+08  ...         3.268421e+07         20.552948  22.297   \n",
       "\n",
       "   Filtermag  V(H=0)  Filter AstRASigma(mas)  AstDecSigma(mas)  \\\n",
       "0     21.247   3.032       z       84.473821         84.473821   \n",
       "2     20.070   4.691       z       31.381618         31.381618   \n",
       "4     20.739   4.600       z       54.255349         54.255349   \n",
       "5     20.918   4.646       z       63.301350         63.301350   \n",
       "7     21.896   4.957       z      151.075080        151.075080   \n",
       "\n",
       "   PhotometricSigma(mag)       H  \n",
       "0               0.100685  18.616  \n",
       "2               0.036783  15.780  \n",
       "4               0.065081  16.540  \n",
       "5               0.075902  16.570  \n",
       "7               0.174751  17.340  \n",
       "\n",
       "[5 rows x 21 columns]"
      ]
     },
     "execution_count": 5,
     "metadata": {},
     "output_type": "execute_result"
    }
   ],
   "source": [
    "simulated_observations.head()"
   ]
  },
  {
   "cell_type": "markdown",
   "metadata": {},
   "source": [
    "Read MPC files created by Sam and Siegfried. "
   ]
  },
  {
   "cell_type": "code",
   "execution_count": 6,
   "metadata": {},
   "outputs": [],
   "source": [
    "#### TODO ####"
   ]
  },
  {
   "cell_type": "markdown",
   "metadata": {},
   "source": [
    "Take first 22 days of observations (will reduce to 20 later but just making sure we don't accidentally clip observations)."
   ]
  },
  {
   "cell_type": "code",
   "execution_count": 7,
   "metadata": {},
   "outputs": [
    {
     "data": {
      "text/plain": [
       "7020669"
      ]
     },
     "execution_count": 7,
     "metadata": {},
     "output_type": "execute_result"
    }
   ],
   "source": [
    "simulated_observations = simulated_observations[\n",
    "    (simulated_observations[\"FieldMJD\"] >= simulated_observations[\"FieldMJD\"].min())\n",
    "    & (simulated_observations[\"FieldMJD\"] < simulated_observations[\"FieldMJD\"].min() + 22)]\n",
    "len(simulated_observations)"
   ]
  },
  {
   "cell_type": "code",
   "execution_count": 8,
   "metadata": {},
   "outputs": [
    {
     "data": {
      "text/html": [
       "<div>\n",
       "<style scoped>\n",
       "    .dataframe tbody tr th:only-of-type {\n",
       "        vertical-align: middle;\n",
       "    }\n",
       "\n",
       "    .dataframe tbody tr th {\n",
       "        vertical-align: top;\n",
       "    }\n",
       "\n",
       "    .dataframe thead th {\n",
       "        text-align: right;\n",
       "    }\n",
       "</style>\n",
       "<table border=\"1\" class=\"dataframe\">\n",
       "  <thead>\n",
       "    <tr style=\"text-align: right;\">\n",
       "      <th></th>\n",
       "      <th>ObjID</th>\n",
       "      <th>observationId</th>\n",
       "      <th>FieldMJD</th>\n",
       "      <th>AstRange(km)</th>\n",
       "      <th>AstRangeRate(km/s)</th>\n",
       "      <th>AstRA(deg)</th>\n",
       "      <th>AstRARate(deg/day)</th>\n",
       "      <th>AstDec(deg)</th>\n",
       "      <th>AstDecRate(deg/day)</th>\n",
       "      <th>Ast-Sun(J2000x)(km)</th>\n",
       "      <th>...</th>\n",
       "      <th>Ast-Sun(J2000z)(km)</th>\n",
       "      <th>Sun-Ast-Obs(deg)</th>\n",
       "      <th>V</th>\n",
       "      <th>Filtermag</th>\n",
       "      <th>V(H=0)</th>\n",
       "      <th>Filter</th>\n",
       "      <th>AstRASigma(mas)</th>\n",
       "      <th>AstDecSigma(mas)</th>\n",
       "      <th>PhotometricSigma(mag)</th>\n",
       "      <th>H</th>\n",
       "    </tr>\n",
       "  </thead>\n",
       "  <tbody>\n",
       "    <tr>\n",
       "      <th>0</th>\n",
       "      <td>S00000pWa</td>\n",
       "      <td>0</td>\n",
       "      <td>59853.985644</td>\n",
       "      <td>1.806609e+08</td>\n",
       "      <td>12.121</td>\n",
       "      <td>293.446584</td>\n",
       "      <td>0.083468</td>\n",
       "      <td>3.515836</td>\n",
       "      <td>-0.215819</td>\n",
       "      <td>2.198797e+08</td>\n",
       "      <td>...</td>\n",
       "      <td>1.984291e+07</td>\n",
       "      <td>33.042024</td>\n",
       "      <td>21.648</td>\n",
       "      <td>21.247</td>\n",
       "      <td>3.032</td>\n",
       "      <td>z</td>\n",
       "      <td>84.473821</td>\n",
       "      <td>84.473821</td>\n",
       "      <td>0.100685</td>\n",
       "      <td>18.616</td>\n",
       "    </tr>\n",
       "    <tr>\n",
       "      <th>2</th>\n",
       "      <td>S1004031a</td>\n",
       "      <td>0</td>\n",
       "      <td>59853.985644</td>\n",
       "      <td>3.110664e+08</td>\n",
       "      <td>17.909</td>\n",
       "      <td>294.549169</td>\n",
       "      <td>0.083839</td>\n",
       "      <td>3.907008</td>\n",
       "      <td>-0.055772</td>\n",
       "      <td>2.770707e+08</td>\n",
       "      <td>...</td>\n",
       "      <td>2.995922e+07</td>\n",
       "      <td>21.992433</td>\n",
       "      <td>20.471</td>\n",
       "      <td>20.070</td>\n",
       "      <td>4.691</td>\n",
       "      <td>z</td>\n",
       "      <td>31.381618</td>\n",
       "      <td>31.381618</td>\n",
       "      <td>0.036783</td>\n",
       "      <td>15.780</td>\n",
       "    </tr>\n",
       "    <tr>\n",
       "      <th>4</th>\n",
       "      <td>S1005Q41a</td>\n",
       "      <td>0</td>\n",
       "      <td>59853.985644</td>\n",
       "      <td>3.025812e+08</td>\n",
       "      <td>14.915</td>\n",
       "      <td>294.380587</td>\n",
       "      <td>0.115228</td>\n",
       "      <td>4.948851</td>\n",
       "      <td>-0.170362</td>\n",
       "      <td>2.725697e+08</td>\n",
       "      <td>...</td>\n",
       "      <td>3.486658e+07</td>\n",
       "      <td>22.510926</td>\n",
       "      <td>21.140</td>\n",
       "      <td>20.739</td>\n",
       "      <td>4.600</td>\n",
       "      <td>z</td>\n",
       "      <td>54.255349</td>\n",
       "      <td>54.255349</td>\n",
       "      <td>0.065081</td>\n",
       "      <td>16.540</td>\n",
       "    </tr>\n",
       "    <tr>\n",
       "      <th>5</th>\n",
       "      <td>S1006EoLa</td>\n",
       "      <td>0</td>\n",
       "      <td>59853.985644</td>\n",
       "      <td>3.071102e+08</td>\n",
       "      <td>18.868</td>\n",
       "      <td>293.816822</td>\n",
       "      <td>0.160728</td>\n",
       "      <td>5.583638</td>\n",
       "      <td>-0.124058</td>\n",
       "      <td>2.715580e+08</td>\n",
       "      <td>...</td>\n",
       "      <td>3.864541e+07</td>\n",
       "      <td>22.382624</td>\n",
       "      <td>21.216</td>\n",
       "      <td>20.918</td>\n",
       "      <td>4.646</td>\n",
       "      <td>z</td>\n",
       "      <td>63.301350</td>\n",
       "      <td>63.301350</td>\n",
       "      <td>0.075902</td>\n",
       "      <td>16.570</td>\n",
       "    </tr>\n",
       "    <tr>\n",
       "      <th>7</th>\n",
       "      <td>S10051Uoa</td>\n",
       "      <td>0</td>\n",
       "      <td>59853.985644</td>\n",
       "      <td>3.370582e+08</td>\n",
       "      <td>14.117</td>\n",
       "      <td>294.847477</td>\n",
       "      <td>0.066844</td>\n",
       "      <td>4.069567</td>\n",
       "      <td>-0.117317</td>\n",
       "      <td>2.894072e+08</td>\n",
       "      <td>...</td>\n",
       "      <td>3.268421e+07</td>\n",
       "      <td>20.552948</td>\n",
       "      <td>22.297</td>\n",
       "      <td>21.896</td>\n",
       "      <td>4.957</td>\n",
       "      <td>z</td>\n",
       "      <td>151.075080</td>\n",
       "      <td>151.075080</td>\n",
       "      <td>0.174751</td>\n",
       "      <td>17.340</td>\n",
       "    </tr>\n",
       "    <tr>\n",
       "      <th>...</th>\n",
       "      <td>...</td>\n",
       "      <td>...</td>\n",
       "      <td>...</td>\n",
       "      <td>...</td>\n",
       "      <td>...</td>\n",
       "      <td>...</td>\n",
       "      <td>...</td>\n",
       "      <td>...</td>\n",
       "      <td>...</td>\n",
       "      <td>...</td>\n",
       "      <td>...</td>\n",
       "      <td>...</td>\n",
       "      <td>...</td>\n",
       "      <td>...</td>\n",
       "      <td>...</td>\n",
       "      <td>...</td>\n",
       "      <td>...</td>\n",
       "      <td>...</td>\n",
       "      <td>...</td>\n",
       "      <td>...</td>\n",
       "      <td>...</td>\n",
       "    </tr>\n",
       "    <tr>\n",
       "      <th>7433601</th>\n",
       "      <td>S100GA3aa</td>\n",
       "      <td>16257</td>\n",
       "      <td>59875.375955</td>\n",
       "      <td>2.934151e+08</td>\n",
       "      <td>-14.009</td>\n",
       "      <td>102.124533</td>\n",
       "      <td>0.145007</td>\n",
       "      <td>-14.846690</td>\n",
       "      <td>-0.289456</td>\n",
       "      <td>6.982482e+07</td>\n",
       "      <td>...</td>\n",
       "      <td>-4.592055e+07</td>\n",
       "      <td>24.262918</td>\n",
       "      <td>23.360</td>\n",
       "      <td>22.905</td>\n",
       "      <td>4.470</td>\n",
       "      <td>i</td>\n",
       "      <td>36.765865</td>\n",
       "      <td>36.765865</td>\n",
       "      <td>0.101936</td>\n",
       "      <td>18.890</td>\n",
       "    </tr>\n",
       "    <tr>\n",
       "      <th>7433602</th>\n",
       "      <td>S1006Xqfa</td>\n",
       "      <td>16257</td>\n",
       "      <td>59875.375955</td>\n",
       "      <td>3.050708e+08</td>\n",
       "      <td>-14.335</td>\n",
       "      <td>103.563525</td>\n",
       "      <td>0.152143</td>\n",
       "      <td>-17.225627</td>\n",
       "      <td>-0.262660</td>\n",
       "      <td>6.105837e+07</td>\n",
       "      <td>...</td>\n",
       "      <td>-6.107999e+07</td>\n",
       "      <td>23.965207</td>\n",
       "      <td>21.634</td>\n",
       "      <td>21.179</td>\n",
       "      <td>4.584</td>\n",
       "      <td>i</td>\n",
       "      <td>12.738713</td>\n",
       "      <td>12.738713</td>\n",
       "      <td>0.023580</td>\n",
       "      <td>17.050</td>\n",
       "    </tr>\n",
       "    <tr>\n",
       "      <th>7433603</th>\n",
       "      <td>S10082S0a</td>\n",
       "      <td>16257</td>\n",
       "      <td>59875.375955</td>\n",
       "      <td>3.035126e+08</td>\n",
       "      <td>-14.507</td>\n",
       "      <td>102.287047</td>\n",
       "      <td>0.137323</td>\n",
       "      <td>-17.802004</td>\n",
       "      <td>-0.214357</td>\n",
       "      <td>6.789776e+07</td>\n",
       "      <td>...</td>\n",
       "      <td>-6.353024e+07</td>\n",
       "      <td>23.829902</td>\n",
       "      <td>22.234</td>\n",
       "      <td>21.943</td>\n",
       "      <td>4.574</td>\n",
       "      <td>i</td>\n",
       "      <td>18.110113</td>\n",
       "      <td>18.110113</td>\n",
       "      <td>0.044679</td>\n",
       "      <td>17.660</td>\n",
       "    </tr>\n",
       "    <tr>\n",
       "      <th>7433604</th>\n",
       "      <td>S1000CDHa</td>\n",
       "      <td>16257</td>\n",
       "      <td>59875.375955</td>\n",
       "      <td>2.114456e+08</td>\n",
       "      <td>-11.536</td>\n",
       "      <td>102.274374</td>\n",
       "      <td>0.186974</td>\n",
       "      <td>-15.437053</td>\n",
       "      <td>-0.260803</td>\n",
       "      <td>8.606522e+07</td>\n",
       "      <td>...</td>\n",
       "      <td>-2.702026e+07</td>\n",
       "      <td>31.226407</td>\n",
       "      <td>22.160</td>\n",
       "      <td>21.705</td>\n",
       "      <td>3.460</td>\n",
       "      <td>i</td>\n",
       "      <td>15.847676</td>\n",
       "      <td>15.847676</td>\n",
       "      <td>0.036517</td>\n",
       "      <td>18.700</td>\n",
       "    </tr>\n",
       "    <tr>\n",
       "      <th>7433605</th>\n",
       "      <td>S0000pbka</td>\n",
       "      <td>16257</td>\n",
       "      <td>59875.375955</td>\n",
       "      <td>6.502695e+07</td>\n",
       "      <td>-11.958</td>\n",
       "      <td>101.402279</td>\n",
       "      <td>0.998623</td>\n",
       "      <td>-15.459548</td>\n",
       "      <td>0.268290</td>\n",
       "      <td>1.170050e+08</td>\n",
       "      <td>...</td>\n",
       "      <td>1.192879e+07</td>\n",
       "      <td>56.487733</td>\n",
       "      <td>24.271</td>\n",
       "      <td>23.816</td>\n",
       "      <td>0.571</td>\n",
       "      <td>i</td>\n",
       "      <td>81.318954</td>\n",
       "      <td>81.318954</td>\n",
       "      <td>0.219926</td>\n",
       "      <td>23.700</td>\n",
       "    </tr>\n",
       "  </tbody>\n",
       "</table>\n",
       "<p>7020669 rows × 21 columns</p>\n",
       "</div>"
      ],
      "text/plain": [
       "             ObjID  observationId      FieldMJD  AstRange(km)  \\\n",
       "0        S00000pWa              0  59853.985644  1.806609e+08   \n",
       "2        S1004031a              0  59853.985644  3.110664e+08   \n",
       "4        S1005Q41a              0  59853.985644  3.025812e+08   \n",
       "5        S1006EoLa              0  59853.985644  3.071102e+08   \n",
       "7        S10051Uoa              0  59853.985644  3.370582e+08   \n",
       "...            ...            ...           ...           ...   \n",
       "7433601  S100GA3aa          16257  59875.375955  2.934151e+08   \n",
       "7433602  S1006Xqfa          16257  59875.375955  3.050708e+08   \n",
       "7433603  S10082S0a          16257  59875.375955  3.035126e+08   \n",
       "7433604  S1000CDHa          16257  59875.375955  2.114456e+08   \n",
       "7433605  S0000pbka          16257  59875.375955  6.502695e+07   \n",
       "\n",
       "         AstRangeRate(km/s)  AstRA(deg)  AstRARate(deg/day)  AstDec(deg)  \\\n",
       "0                    12.121  293.446584            0.083468     3.515836   \n",
       "2                    17.909  294.549169            0.083839     3.907008   \n",
       "4                    14.915  294.380587            0.115228     4.948851   \n",
       "5                    18.868  293.816822            0.160728     5.583638   \n",
       "7                    14.117  294.847477            0.066844     4.069567   \n",
       "...                     ...         ...                 ...          ...   \n",
       "7433601             -14.009  102.124533            0.145007   -14.846690   \n",
       "7433602             -14.335  103.563525            0.152143   -17.225627   \n",
       "7433603             -14.507  102.287047            0.137323   -17.802004   \n",
       "7433604             -11.536  102.274374            0.186974   -15.437053   \n",
       "7433605             -11.958  101.402279            0.998623   -15.459548   \n",
       "\n",
       "         AstDecRate(deg/day)  Ast-Sun(J2000x)(km)  ...  Ast-Sun(J2000z)(km)  \\\n",
       "0                  -0.215819         2.198797e+08  ...         1.984291e+07   \n",
       "2                  -0.055772         2.770707e+08  ...         2.995922e+07   \n",
       "4                  -0.170362         2.725697e+08  ...         3.486658e+07   \n",
       "5                  -0.124058         2.715580e+08  ...         3.864541e+07   \n",
       "7                  -0.117317         2.894072e+08  ...         3.268421e+07   \n",
       "...                      ...                  ...  ...                  ...   \n",
       "7433601            -0.289456         6.982482e+07  ...        -4.592055e+07   \n",
       "7433602            -0.262660         6.105837e+07  ...        -6.107999e+07   \n",
       "7433603            -0.214357         6.789776e+07  ...        -6.353024e+07   \n",
       "7433604            -0.260803         8.606522e+07  ...        -2.702026e+07   \n",
       "7433605             0.268290         1.170050e+08  ...         1.192879e+07   \n",
       "\n",
       "         Sun-Ast-Obs(deg)       V  Filtermag  V(H=0)  Filter AstRASigma(mas)  \\\n",
       "0               33.042024  21.648     21.247   3.032       z       84.473821   \n",
       "2               21.992433  20.471     20.070   4.691       z       31.381618   \n",
       "4               22.510926  21.140     20.739   4.600       z       54.255349   \n",
       "5               22.382624  21.216     20.918   4.646       z       63.301350   \n",
       "7               20.552948  22.297     21.896   4.957       z      151.075080   \n",
       "...                   ...     ...        ...     ...     ...             ...   \n",
       "7433601         24.262918  23.360     22.905   4.470       i       36.765865   \n",
       "7433602         23.965207  21.634     21.179   4.584       i       12.738713   \n",
       "7433603         23.829902  22.234     21.943   4.574       i       18.110113   \n",
       "7433604         31.226407  22.160     21.705   3.460       i       15.847676   \n",
       "7433605         56.487733  24.271     23.816   0.571       i       81.318954   \n",
       "\n",
       "         AstDecSigma(mas)  PhotometricSigma(mag)       H  \n",
       "0               84.473821               0.100685  18.616  \n",
       "2               31.381618               0.036783  15.780  \n",
       "4               54.255349               0.065081  16.540  \n",
       "5               63.301350               0.075902  16.570  \n",
       "7              151.075080               0.174751  17.340  \n",
       "...                   ...                    ...     ...  \n",
       "7433601         36.765865               0.101936  18.890  \n",
       "7433602         12.738713               0.023580  17.050  \n",
       "7433603         18.110113               0.044679  17.660  \n",
       "7433604         15.847676               0.036517  18.700  \n",
       "7433605         81.318954               0.219926  23.700  \n",
       "\n",
       "[7020669 rows x 21 columns]"
      ]
     },
     "execution_count": 8,
     "metadata": {},
     "output_type": "execute_result"
    }
   ],
   "source": [
    "simulated_observations"
   ]
  },
  {
   "cell_type": "markdown",
   "metadata": {},
   "source": [
    "Calculate the night of observation."
   ]
  },
  {
   "cell_type": "code",
   "execution_count": 9,
   "metadata": {},
   "outputs": [],
   "source": [
    "def calcNight(mjd, midnight=0.166):\n",
    "    night = mjd + 0.5 - midnight\n",
    "    return night.astype(int)\n",
    "\n",
    "simulated_observations[\"night\"] = calcNight(simulated_observations[\"FieldMJD\"])"
   ]
  },
  {
   "cell_type": "code",
   "execution_count": 10,
   "metadata": {},
   "outputs": [
    {
     "data": {
      "image/png": "[encoded data removed]",
      "text/plain": [
       "<Figure size 1200x800 with 1 Axes>"
      ]
     },
     "metadata": {
      "needs_background": "light"
     },
     "output_type": "display_data"
    },
    {
     "data": {
      "image/png": "[encoded data removed]",
      "text/plain": [
       "<Figure size 1200x800 with 1 Axes>"
      ]
     },
     "metadata": {
      "needs_background": "light"
     },
     "output_type": "display_data"
    },
    {
     "data": {
      "image/png": "[encoded data removed]",
      "text/plain": [
       "<Figure size 1200x800 with 1 Axes>"
      ]
     },
     "metadata": {
      "needs_background": "light"
     },
     "output_type": "display_data"
    }
   ],
   "source": [
    "fig, ax = plt.subplots(1, 1, dpi=200)\n",
    "values, bins, artists = ax.hist(simulated_observations[\"FieldMJD\"].unique(), bins=100)\n",
    "\n",
    "fig, ax = plt.subplots(1, 1, dpi=200)\n",
    "values, bins, artists = ax.hist(simulated_observations[\"FieldMJD\"].unique() + 0.5 - 0.166, bins=100)\n",
    "\n",
    "fig, ax = plt.subplots(1, 1, dpi=200)\n",
    "values, bins, artists = ax.hist(simulated_observations[\"night\"].values, bins=100)"
   ]
  },
  {
   "cell_type": "markdown",
   "metadata": {},
   "source": [
    "Keep only the first 20 nights of observations."
   ]
  },
  {
   "cell_type": "code",
   "execution_count": 11,
   "metadata": {},
   "outputs": [
    {
     "data": {
      "text/plain": [
       "6405625"
      ]
     },
     "execution_count": 11,
     "metadata": {},
     "output_type": "execute_result"
    }
   ],
   "source": [
    "simulated_observations = simulated_observations[\n",
    "    (simulated_observations[\"night\"] >= simulated_observations[\"night\"].min())\n",
    "    & (simulated_observations[\"night\"] <= (simulated_observations[\"night\"].min() + 20))\n",
    "].copy()\n",
    "len(simulated_observations)"
   ]
  },
  {
   "cell_type": "markdown",
   "metadata": {},
   "source": [
    "Add random error to the sky-plane positions."
   ]
  },
  {
   "cell_type": "code",
   "execution_count": 12,
   "metadata": {},
   "outputs": [],
   "source": [
    "simulated_observations.loc[:, \"AstRA(deg)\"] = np.random.normal(\n",
    "    loc=simulated_observations[\"AstRA(deg)\"].values, \n",
    "    scale=simulated_observations[\"AstRASigma(mas)\"].values/(1e3*3600) / np.cos(np.radians(simulated_observations[\"AstDec(deg)\"].values))\n",
    ")\n",
    "simulated_observations.loc[:, \"AstDec(deg)\"] = np.random.normal(\n",
    "    loc=simulated_observations[\"AstDec(deg)\"].values, \n",
    "    scale=simulated_observations[\"AstDecSigma(mas)\"].values/(1e3*3600)\n",
    ")"
   ]
  },
  {
   "cell_type": "markdown",
   "metadata": {},
   "source": [
    "ADES expects rmsRAcosDec."
   ]
  },
  {
   "cell_type": "code",
   "execution_count": 13,
   "metadata": {},
   "outputs": [],
   "source": [
    "simulated_observations.loc[:, \"AstRASigma(mas)\"] *= np.cos(np.radians(simulated_observations[\"AstDec(deg)\"].values))"
   ]
  },
  {
   "cell_type": "markdown",
   "metadata": {},
   "source": [
    "ADES expects errors in arcseconds."
   ]
  },
  {
   "cell_type": "code",
   "execution_count": 14,
   "metadata": {},
   "outputs": [],
   "source": [
    "simulated_observations[\"AstRASigma(arcsec)\"] = simulated_observations[\"AstRASigma(mas)\"].values / 1e3\n",
    "simulated_observations[\"AstDecSigma(arcsec)\"] = simulated_observations[\"AstDecSigma(mas)\"].values / 1e3"
   ]
  },
  {
   "cell_type": "markdown",
   "metadata": {},
   "source": [
    "Make sure observation IDs are unique."
   ]
  },
  {
   "cell_type": "code",
   "execution_count": 15,
   "metadata": {},
   "outputs": [],
   "source": [
    "simulated_observations[\"observationId\"] = [\"obs{:08d}\".format(i) for i in range(len(simulated_observations))]"
   ]
  },
  {
   "cell_type": "markdown",
   "metadata": {},
   "source": [
    "Add observatory code, observation type, astrometric catalog, etc..."
   ]
  },
  {
   "cell_type": "code",
   "execution_count": 16,
   "metadata": {},
   "outputs": [],
   "source": [
    "simulated_observations[\"stn\"] = [\"I11\" for i in range(len(simulated_observations))]\n",
    "simulated_observations[\"mode\"] = [\"CCD\" for i in range(len(simulated_observations))]\n",
    "simulated_observations[\"astCat\"] = [\"Gaia2\" for i in range(len(simulated_observations))]"
   ]
  },
  {
   "cell_type": "markdown",
   "metadata": {},
   "source": [
    "Rename some columns to fit names expected by ADES. "
   ]
  },
  {
   "cell_type": "code",
   "execution_count": 17,
   "metadata": {},
   "outputs": [],
   "source": [
    "simulated_observations.rename(\n",
    "    columns={\n",
    "        \"observationId\" : \"obs_id\",\n",
    "        \"ObjID\" : \"obj_id\",\n",
    "        \"FieldMJD\" : \"mjd_utc\",\n",
    "        \"AstRA(deg)\" : \"ra\",\n",
    "        \"AstDec(deg)\" : \"dec\",\n",
    "        \"AstRASigma(arcsec)\" : \"rmsRA\", \n",
    "        \"AstDecSigma(arcsec)\" : \"rmsDec\",\n",
    "        \"Filter\" : \"band\",\n",
    "        \"Filtermag\" : \"mag\",\n",
    "        \"PhotometricSigma(mag)\" : \"rmsMag\",\n",
    "    },\n",
    "    inplace=True\n",
    ")"
   ]
  },
  {
   "cell_type": "markdown",
   "metadata": {},
   "source": [
    "Keep only the relevant columns."
   ]
  },
  {
   "cell_type": "code",
   "execution_count": 18,
   "metadata": {},
   "outputs": [],
   "source": [
    "simulated_observations = simulated_observations[[\n",
    "    \"obs_id\",\n",
    "    \"obj_id\",\n",
    "    \"mjd_utc\",\n",
    "    \"ra\",\n",
    "    \"dec\",\n",
    "    \"rmsRA\",\n",
    "    \"rmsDec\",\n",
    "    \"band\",\n",
    "    \"mag\",\n",
    "    \"rmsMag\",\n",
    "    \"stn\",\n",
    "    \"mode\",\n",
    "    \"astCat\",\n",
    "    \"night\",\n",
    "]]"
   ]
  },
  {
   "cell_type": "code",
   "execution_count": 19,
   "metadata": {},
   "outputs": [],
   "source": [
    "simulated_observations.to_csv(\n",
    "    os.path.join(DATA_DIR, \"observations.txt\"), \n",
    "    index=False, \n",
    "    sep=\" \"\n",
    ")"
   ]
  },
  {
   "cell_type": "code",
   "execution_count": null,
   "metadata": {},
   "outputs": [],
   "source": []
  }
 ],
 "metadata": {
  "kernelspec": {
   "display_name": "Python [conda env:difi_py38]",
   "language": "python",
   "name": "conda-env-difi_py38-py"
  },
  "language_info": {
   "codemirror_mode": {
    "name": "ipython",
    "version": 3
   },
   "file_extension": ".py",
   "mimetype": "text/x-python",
   "name": "python",
   "nbconvert_exporter": "python",
   "pygments_lexer": "ipython3",
   "version": "3.8.3"
  }
 },
 "nbformat": 4,
 "nbformat_minor": 4
}
